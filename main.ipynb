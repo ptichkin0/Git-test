{
 "cells": [
  {
   "cell_type": "code",
   "execution_count": 5,
   "metadata": {},
   "outputs": [
    {
     "name": "stdout",
     "output_type": "stream",
     "text": [
      "Train Data URL: https://storage.googleapis.com/tf-datasets/titanic/train.csv\n",
      "Test Data URL: https://storage.googleapis.com/tf-datasets/titanic/eval.csv\n",
      "Test Size: 0.2\n",
      "Epochs: 10\n",
      "Model Parameter 1: 0.001\n"
     ]
    }
   ],
   "source": [
    "import os\n",
    "from dotenv import load_dotenv\n",
    "\n",
    "# Загрузка переменных окружения из файла .params.env\n",
    "load_dotenv(dotenv_path='envs/.params.env')\n",
    "\n",
    "# Чтение констант\n",
    "train_data_url = os.getenv('TRAIN_DATA_URL')\n",
    "test_data_url = os.getenv('TEST_DATA_URL')\n",
    "test_size = float(os.getenv('TEST_SIZE', 0.2))  \n",
    "epochs = int(os.getenv('EPOCHS', 10))  \n",
    "model_param_1 = float(os.getenv('MODEL_PARAMETR_1', 0.001))\n",
    "\n",
    "print(f\"Train Data URL: {train_data_url}\")\n",
    "print(f\"Test Data URL: {test_data_url}\")\n",
    "print(f\"Test Size: {test_size}\")\n",
    "print(f\"Epochs: {epochs}\")\n",
    "print(f\"Model Parameter 1: {model_param_1}\")\n"
   ]
  },
  {
   "cell_type": "markdown",
   "metadata": {},
   "source": [
    "# Домашнее задание"
   ]
  },
  {
   "cell_type": "markdown",
   "metadata": {},
   "source": [
    "В этом задании необходимо решить задачу классификации и регрессии с помощью фреймоврка `pytorch`"
   ]
  },
  {
   "cell_type": "code",
   "execution_count": 7,
   "metadata": {},
   "outputs": [],
   "source": [
    "import numpy as np\n",
    "import pandas as pd\n",
    "import matplotlib.pyplot as plt"
   ]
  },
  {
   "cell_type": "code",
   "execution_count": null,
   "metadata": {},
   "outputs": [],
   "source": [
    "# Пример предобработки данных\n",
    "data = pd.read_csv('dataset.csv')\n",
    "data.fillna(0, inplace=True)\n",
    "print(\"Данные успешно загружены и обработаны.\")"
   ]
  },
  {
   "cell_type": "code",
   "execution_count": 1,
   "metadata": {},
   "outputs": [],
   "source": [
    "import warnings\n",
    "warnings.filterwarnings('ignore', category=DeprecationWarning)"
   ]
  },
  {
   "cell_type": "code",
   "execution_count": 3,
   "metadata": {},
   "outputs": [],
   "source": [
    "import pandas as pd\n",
    "from torch import nn\n",
    "import torch\n",
    "from torch.utils.data import TensorDataset, DataLoader\n"
   ]
  },
  {
   "cell_type": "markdown",
   "metadata": {},
   "source": [
    "## Классификация"
   ]
  },
  {
   "cell_type": "markdown",
   "metadata": {},
   "source": [
    "Для задачи классификации будет использоваться набор [космического титаника](https://drive.google.com/file/d/143k5oFdfVRDpke9GCnfzTcQNA9jIS0O-/view?usp=sharing). Описание датасета на [kaggle](https://www.kaggle.com/competitions/spaceship-titanic/data?select=train.csv)"
   ]
  },
  {
   "cell_type": "markdown",
   "metadata": {},
   "source": [
    "1) Импорт и обработка данных\n",
    "\n",
    "- обработкайте пропуски, \n",
    "\n",
    "- масштабирование данных,\n",
    "\n",
    "- обработка категориальных признаков"
   ]
  },
  {
   "cell_type": "code",
   "execution_count": 66,
   "metadata": {},
   "outputs": [
    {
     "data": {
      "text/plain": [
       "<bound method NDFrame.head of      PassengerId HomePlanet CryoSleep     Cabin    Destination   Age    VIP  \\\n",
       "0        0001_01     Europa     False     B/0/P    TRAPPIST-1e  39.0  False   \n",
       "1        0002_01      Earth     False     F/0/S    TRAPPIST-1e  24.0  False   \n",
       "2        0003_01     Europa     False     A/0/S    TRAPPIST-1e  58.0   True   \n",
       "3        0003_02     Europa     False     A/0/S    TRAPPIST-1e  33.0  False   \n",
       "4        0004_01      Earth     False     F/1/S    TRAPPIST-1e  16.0  False   \n",
       "...          ...        ...       ...       ...            ...   ...    ...   \n",
       "8688     9276_01     Europa     False    A/98/P    55 Cancri e  41.0   True   \n",
       "8689     9278_01      Earth      True  G/1499/S  PSO J318.5-22  18.0  False   \n",
       "8690     9279_01      Earth     False  G/1500/S    TRAPPIST-1e  26.0  False   \n",
       "8691     9280_01     Europa     False   E/608/S    55 Cancri e  32.0  False   \n",
       "8692     9280_02     Europa     False   E/608/S    TRAPPIST-1e  44.0  False   \n",
       "\n",
       "      RoomService  FoodCourt  ShoppingMall     Spa  VRDeck               Name  \\\n",
       "0             0.0        0.0           0.0     0.0     0.0    Maham Ofracculy   \n",
       "1           109.0        9.0          25.0   549.0    44.0       Juanna Vines   \n",
       "2            43.0     3576.0           0.0  6715.0    49.0      Altark Susent   \n",
       "3             0.0     1283.0         371.0  3329.0   193.0       Solam Susent   \n",
       "4           303.0       70.0         151.0   565.0     2.0  Willy Santantines   \n",
       "...           ...        ...           ...     ...     ...                ...   \n",
       "8688          0.0     6819.0           0.0  1643.0    74.0  Gravior Noxnuther   \n",
       "8689          0.0        0.0           0.0     0.0     0.0    Kurta Mondalley   \n",
       "8690          0.0        0.0        1872.0     1.0     0.0       Fayey Connon   \n",
       "8691          0.0     1049.0           0.0   353.0  3235.0   Celeon Hontichre   \n",
       "8692        126.0     4688.0           0.0     0.0    12.0   Propsh Hontichre   \n",
       "\n",
       "      Transported  \n",
       "0           False  \n",
       "1            True  \n",
       "2           False  \n",
       "3           False  \n",
       "4            True  \n",
       "...           ...  \n",
       "8688        False  \n",
       "8689        False  \n",
       "8690         True  \n",
       "8691        False  \n",
       "8692         True  \n",
       "\n",
       "[8693 rows x 14 columns]>"
      ]
     },
     "execution_count": 66,
     "metadata": {},
     "output_type": "execute_result"
    }
   ],
   "source": [
    "df = pd.read_csv('spacesheep-titanic.csv')\n",
    "df.head"
   ]
  },
  {
   "cell_type": "code",
   "execution_count": 67,
   "metadata": {},
   "outputs": [
    {
     "data": {
      "text/plain": [
       "PassengerId       0\n",
       "HomePlanet      201\n",
       "CryoSleep       217\n",
       "Cabin           199\n",
       "Destination     182\n",
       "Age             179\n",
       "VIP             203\n",
       "RoomService     181\n",
       "FoodCourt       183\n",
       "ShoppingMall    208\n",
       "Spa             183\n",
       "VRDeck          188\n",
       "Name            200\n",
       "Transported       0\n",
       "dtype: int64"
      ]
     },
     "execution_count": 67,
     "metadata": {},
     "output_type": "execute_result"
    }
   ],
   "source": [
    "df.isnull().sum()"
   ]
  },
  {
   "cell_type": "code",
   "execution_count": 68,
   "metadata": {},
   "outputs": [],
   "source": [
    "df['Age'].fillna(df['Age'].mean(), inplace=True)\n",
    "df['CryoSleep'].fillna(df['CryoSleep'].mode()[0], inplace=True)\n",
    "df['HomePlanet'].fillna(df['HomePlanet'].mode()[0], inplace=True)\n",
    "df['FoodCourt'].interpolate(method='linear', inplace=True)\n",
    "df['VRDeck'].interpolate(method='polynomial', order=2, inplace=True)\n",
    "df.drop(['Cabin'], axis=1, inplace=True)\n",
    "df.dropna(axis=0, inplace=True)"
   ]
  },
  {
   "cell_type": "code",
   "execution_count": 69,
   "metadata": {},
   "outputs": [
    {
     "data": {
      "text/html": [
       "<div>\n",
       "<style scoped>\n",
       "    .dataframe tbody tr th:only-of-type {\n",
       "        vertical-align: middle;\n",
       "    }\n",
       "\n",
       "    .dataframe tbody tr th {\n",
       "        vertical-align: top;\n",
       "    }\n",
       "\n",
       "    .dataframe thead th {\n",
       "        text-align: right;\n",
       "    }\n",
       "</style>\n",
       "<table border=\"1\" class=\"dataframe\">\n",
       "  <thead>\n",
       "    <tr style=\"text-align: right;\">\n",
       "      <th></th>\n",
       "      <th>PassengerId</th>\n",
       "      <th>HomePlanet</th>\n",
       "      <th>CryoSleep</th>\n",
       "      <th>Destination</th>\n",
       "      <th>Age</th>\n",
       "      <th>VIP</th>\n",
       "      <th>RoomService</th>\n",
       "      <th>FoodCourt</th>\n",
       "      <th>ShoppingMall</th>\n",
       "      <th>Spa</th>\n",
       "      <th>VRDeck</th>\n",
       "      <th>Name</th>\n",
       "      <th>Transported</th>\n",
       "    </tr>\n",
       "  </thead>\n",
       "  <tbody>\n",
       "    <tr>\n",
       "      <th>0</th>\n",
       "      <td>0001_01</td>\n",
       "      <td>Europa</td>\n",
       "      <td>False</td>\n",
       "      <td>TRAPPIST-1e</td>\n",
       "      <td>39.0</td>\n",
       "      <td>False</td>\n",
       "      <td>0.0</td>\n",
       "      <td>0.0</td>\n",
       "      <td>0.0</td>\n",
       "      <td>0.0</td>\n",
       "      <td>0.0</td>\n",
       "      <td>Maham Ofracculy</td>\n",
       "      <td>False</td>\n",
       "    </tr>\n",
       "    <tr>\n",
       "      <th>1</th>\n",
       "      <td>0002_01</td>\n",
       "      <td>Earth</td>\n",
       "      <td>False</td>\n",
       "      <td>TRAPPIST-1e</td>\n",
       "      <td>24.0</td>\n",
       "      <td>False</td>\n",
       "      <td>109.0</td>\n",
       "      <td>9.0</td>\n",
       "      <td>25.0</td>\n",
       "      <td>549.0</td>\n",
       "      <td>44.0</td>\n",
       "      <td>Juanna Vines</td>\n",
       "      <td>True</td>\n",
       "    </tr>\n",
       "    <tr>\n",
       "      <th>2</th>\n",
       "      <td>0003_01</td>\n",
       "      <td>Europa</td>\n",
       "      <td>False</td>\n",
       "      <td>TRAPPIST-1e</td>\n",
       "      <td>58.0</td>\n",
       "      <td>True</td>\n",
       "      <td>43.0</td>\n",
       "      <td>3576.0</td>\n",
       "      <td>0.0</td>\n",
       "      <td>6715.0</td>\n",
       "      <td>49.0</td>\n",
       "      <td>Altark Susent</td>\n",
       "      <td>False</td>\n",
       "    </tr>\n",
       "    <tr>\n",
       "      <th>3</th>\n",
       "      <td>0003_02</td>\n",
       "      <td>Europa</td>\n",
       "      <td>False</td>\n",
       "      <td>TRAPPIST-1e</td>\n",
       "      <td>33.0</td>\n",
       "      <td>False</td>\n",
       "      <td>0.0</td>\n",
       "      <td>1283.0</td>\n",
       "      <td>371.0</td>\n",
       "      <td>3329.0</td>\n",
       "      <td>193.0</td>\n",
       "      <td>Solam Susent</td>\n",
       "      <td>False</td>\n",
       "    </tr>\n",
       "    <tr>\n",
       "      <th>4</th>\n",
       "      <td>0004_01</td>\n",
       "      <td>Earth</td>\n",
       "      <td>False</td>\n",
       "      <td>TRAPPIST-1e</td>\n",
       "      <td>16.0</td>\n",
       "      <td>False</td>\n",
       "      <td>303.0</td>\n",
       "      <td>70.0</td>\n",
       "      <td>151.0</td>\n",
       "      <td>565.0</td>\n",
       "      <td>2.0</td>\n",
       "      <td>Willy Santantines</td>\n",
       "      <td>True</td>\n",
       "    </tr>\n",
       "  </tbody>\n",
       "</table>\n",
       "</div>"
      ],
      "text/plain": [
       "  PassengerId HomePlanet  CryoSleep  Destination   Age    VIP  RoomService  \\\n",
       "0     0001_01     Europa      False  TRAPPIST-1e  39.0  False          0.0   \n",
       "1     0002_01      Earth      False  TRAPPIST-1e  24.0  False        109.0   \n",
       "2     0003_01     Europa      False  TRAPPIST-1e  58.0   True         43.0   \n",
       "3     0003_02     Europa      False  TRAPPIST-1e  33.0  False          0.0   \n",
       "4     0004_01      Earth      False  TRAPPIST-1e  16.0  False        303.0   \n",
       "\n",
       "   FoodCourt  ShoppingMall     Spa  VRDeck               Name  Transported  \n",
       "0        0.0           0.0     0.0     0.0    Maham Ofracculy        False  \n",
       "1        9.0          25.0   549.0    44.0       Juanna Vines         True  \n",
       "2     3576.0           0.0  6715.0    49.0      Altark Susent        False  \n",
       "3     1283.0         371.0  3329.0   193.0       Solam Susent        False  \n",
       "4       70.0         151.0   565.0     2.0  Willy Santantines         True  "
      ]
     },
     "execution_count": 69,
     "metadata": {},
     "output_type": "execute_result"
    }
   ],
   "source": [
    "df[:5]"
   ]
  },
  {
   "cell_type": "code",
   "execution_count": 71,
   "metadata": {},
   "outputs": [],
   "source": [
    "# масштабирование данных\n",
    "numeric_columns = ['Age', 'RoomService', 'FoodCourt', 'ShoppingMall', 'Spa', 'VRDeck']  # Числовые столбцы\n",
    "for column in numeric_columns:\n",
    "    df[column] = (df[column] - df[column].mean()) / df[column].std()"
   ]
  },
  {
   "cell_type": "code",
   "execution_count": 72,
   "metadata": {},
   "outputs": [
    {
     "data": {
      "text/html": [
       "<div>\n",
       "<style scoped>\n",
       "    .dataframe tbody tr th:only-of-type {\n",
       "        vertical-align: middle;\n",
       "    }\n",
       "\n",
       "    .dataframe tbody tr th {\n",
       "        vertical-align: top;\n",
       "    }\n",
       "\n",
       "    .dataframe thead th {\n",
       "        text-align: right;\n",
       "    }\n",
       "</style>\n",
       "<table border=\"1\" class=\"dataframe\">\n",
       "  <thead>\n",
       "    <tr style=\"text-align: right;\">\n",
       "      <th></th>\n",
       "      <th>PassengerId</th>\n",
       "      <th>HomePlanet</th>\n",
       "      <th>CryoSleep</th>\n",
       "      <th>Destination</th>\n",
       "      <th>Age</th>\n",
       "      <th>VIP</th>\n",
       "      <th>RoomService</th>\n",
       "      <th>FoodCourt</th>\n",
       "      <th>ShoppingMall</th>\n",
       "      <th>Spa</th>\n",
       "      <th>VRDeck</th>\n",
       "      <th>Name</th>\n",
       "      <th>Transported</th>\n",
       "    </tr>\n",
       "  </thead>\n",
       "  <tbody>\n",
       "    <tr>\n",
       "      <th>0</th>\n",
       "      <td>0001_01</td>\n",
       "      <td>Europa</td>\n",
       "      <td>False</td>\n",
       "      <td>TRAPPIST-1e</td>\n",
       "      <td>0.703529</td>\n",
       "      <td>False</td>\n",
       "      <td>-0.334438</td>\n",
       "      <td>-0.287815</td>\n",
       "      <td>-0.310955</td>\n",
       "      <td>-0.271765</td>\n",
       "      <td>-0.266596</td>\n",
       "      <td>Maham Ofracculy</td>\n",
       "      <td>False</td>\n",
       "    </tr>\n",
       "    <tr>\n",
       "      <th>1</th>\n",
       "      <td>0002_01</td>\n",
       "      <td>Earth</td>\n",
       "      <td>False</td>\n",
       "      <td>TRAPPIST-1e</td>\n",
       "      <td>-0.341356</td>\n",
       "      <td>False</td>\n",
       "      <td>-0.169474</td>\n",
       "      <td>-0.282264</td>\n",
       "      <td>-0.266391</td>\n",
       "      <td>0.205914</td>\n",
       "      <td>-0.227261</td>\n",
       "      <td>Juanna Vines</td>\n",
       "      <td>True</td>\n",
       "    </tr>\n",
       "    <tr>\n",
       "      <th>2</th>\n",
       "      <td>0003_01</td>\n",
       "      <td>Europa</td>\n",
       "      <td>False</td>\n",
       "      <td>TRAPPIST-1e</td>\n",
       "      <td>2.027050</td>\n",
       "      <td>True</td>\n",
       "      <td>-0.269361</td>\n",
       "      <td>1.917867</td>\n",
       "      <td>-0.310955</td>\n",
       "      <td>5.570881</td>\n",
       "      <td>-0.222791</td>\n",
       "      <td>Altark Susent</td>\n",
       "      <td>False</td>\n",
       "    </tr>\n",
       "    <tr>\n",
       "      <th>3</th>\n",
       "      <td>0003_02</td>\n",
       "      <td>Europa</td>\n",
       "      <td>False</td>\n",
       "      <td>TRAPPIST-1e</td>\n",
       "      <td>0.285575</td>\n",
       "      <td>False</td>\n",
       "      <td>-0.334438</td>\n",
       "      <td>0.503541</td>\n",
       "      <td>0.350383</td>\n",
       "      <td>2.624761</td>\n",
       "      <td>-0.094060</td>\n",
       "      <td>Solam Susent</td>\n",
       "      <td>False</td>\n",
       "    </tr>\n",
       "    <tr>\n",
       "      <th>4</th>\n",
       "      <td>0004_01</td>\n",
       "      <td>Earth</td>\n",
       "      <td>False</td>\n",
       "      <td>TRAPPIST-1e</td>\n",
       "      <td>-0.898628</td>\n",
       "      <td>False</td>\n",
       "      <td>0.124131</td>\n",
       "      <td>-0.244639</td>\n",
       "      <td>-0.041785</td>\n",
       "      <td>0.219835</td>\n",
       "      <td>-0.264808</td>\n",
       "      <td>Willy Santantines</td>\n",
       "      <td>True</td>\n",
       "    </tr>\n",
       "    <tr>\n",
       "      <th>5</th>\n",
       "      <td>0005_01</td>\n",
       "      <td>Earth</td>\n",
       "      <td>False</td>\n",
       "      <td>PSO J318.5-22</td>\n",
       "      <td>1.051824</td>\n",
       "      <td>False</td>\n",
       "      <td>-0.334438</td>\n",
       "      <td>0.010100</td>\n",
       "      <td>-0.310955</td>\n",
       "      <td>-0.018569</td>\n",
       "      <td>-0.266596</td>\n",
       "      <td>Sandie Hinetthews</td>\n",
       "      <td>True</td>\n",
       "    </tr>\n",
       "    <tr>\n",
       "      <th>6</th>\n",
       "      <td>0006_01</td>\n",
       "      <td>Earth</td>\n",
       "      <td>False</td>\n",
       "      <td>TRAPPIST-1e</td>\n",
       "      <td>-0.202038</td>\n",
       "      <td>False</td>\n",
       "      <td>-0.270874</td>\n",
       "      <td>0.661442</td>\n",
       "      <td>-0.305608</td>\n",
       "      <td>-0.271765</td>\n",
       "      <td>-0.266596</td>\n",
       "      <td>Billex Jacostaffey</td>\n",
       "      <td>True</td>\n",
       "    </tr>\n",
       "    <tr>\n",
       "      <th>7</th>\n",
       "      <td>0006_02</td>\n",
       "      <td>Earth</td>\n",
       "      <td>True</td>\n",
       "      <td>TRAPPIST-1e</td>\n",
       "      <td>-0.062720</td>\n",
       "      <td>False</td>\n",
       "      <td>-0.334438</td>\n",
       "      <td>-0.287815</td>\n",
       "      <td>-0.310955</td>\n",
       "      <td>-0.271765</td>\n",
       "      <td>-0.268460</td>\n",
       "      <td>Candra Jacostaffey</td>\n",
       "      <td>True</td>\n",
       "    </tr>\n",
       "    <tr>\n",
       "      <th>8</th>\n",
       "      <td>0007_01</td>\n",
       "      <td>Earth</td>\n",
       "      <td>False</td>\n",
       "      <td>TRAPPIST-1e</td>\n",
       "      <td>0.424893</td>\n",
       "      <td>False</td>\n",
       "      <td>-0.334438</td>\n",
       "      <td>0.196374</td>\n",
       "      <td>-0.280652</td>\n",
       "      <td>-0.083826</td>\n",
       "      <td>-0.266596</td>\n",
       "      <td>Andona Beston</td>\n",
       "      <td>True</td>\n",
       "    </tr>\n",
       "    <tr>\n",
       "      <th>9</th>\n",
       "      <td>0008_01</td>\n",
       "      <td>Europa</td>\n",
       "      <td>True</td>\n",
       "      <td>55 Cancri e</td>\n",
       "      <td>-1.037946</td>\n",
       "      <td>False</td>\n",
       "      <td>-0.334438</td>\n",
       "      <td>-0.287815</td>\n",
       "      <td>-0.310955</td>\n",
       "      <td>-0.271765</td>\n",
       "      <td>-0.266596</td>\n",
       "      <td>Erraiam Flatic</td>\n",
       "      <td>True</td>\n",
       "    </tr>\n",
       "  </tbody>\n",
       "</table>\n",
       "</div>"
      ],
      "text/plain": [
       "  PassengerId HomePlanet  CryoSleep    Destination       Age    VIP  \\\n",
       "0     0001_01     Europa      False    TRAPPIST-1e  0.703529  False   \n",
       "1     0002_01      Earth      False    TRAPPIST-1e -0.341356  False   \n",
       "2     0003_01     Europa      False    TRAPPIST-1e  2.027050   True   \n",
       "3     0003_02     Europa      False    TRAPPIST-1e  0.285575  False   \n",
       "4     0004_01      Earth      False    TRAPPIST-1e -0.898628  False   \n",
       "5     0005_01      Earth      False  PSO J318.5-22  1.051824  False   \n",
       "6     0006_01      Earth      False    TRAPPIST-1e -0.202038  False   \n",
       "7     0006_02      Earth       True    TRAPPIST-1e -0.062720  False   \n",
       "8     0007_01      Earth      False    TRAPPIST-1e  0.424893  False   \n",
       "9     0008_01     Europa       True    55 Cancri e -1.037946  False   \n",
       "\n",
       "   RoomService  FoodCourt  ShoppingMall       Spa    VRDeck  \\\n",
       "0    -0.334438  -0.287815     -0.310955 -0.271765 -0.266596   \n",
       "1    -0.169474  -0.282264     -0.266391  0.205914 -0.227261   \n",
       "2    -0.269361   1.917867     -0.310955  5.570881 -0.222791   \n",
       "3    -0.334438   0.503541      0.350383  2.624761 -0.094060   \n",
       "4     0.124131  -0.244639     -0.041785  0.219835 -0.264808   \n",
       "5    -0.334438   0.010100     -0.310955 -0.018569 -0.266596   \n",
       "6    -0.270874   0.661442     -0.305608 -0.271765 -0.266596   \n",
       "7    -0.334438  -0.287815     -0.310955 -0.271765 -0.268460   \n",
       "8    -0.334438   0.196374     -0.280652 -0.083826 -0.266596   \n",
       "9    -0.334438  -0.287815     -0.310955 -0.271765 -0.266596   \n",
       "\n",
       "                 Name  Transported  \n",
       "0     Maham Ofracculy        False  \n",
       "1        Juanna Vines         True  \n",
       "2       Altark Susent        False  \n",
       "3        Solam Susent        False  \n",
       "4   Willy Santantines         True  \n",
       "5   Sandie Hinetthews         True  \n",
       "6  Billex Jacostaffey         True  \n",
       "7  Candra Jacostaffey         True  \n",
       "8       Andona Beston         True  \n",
       "9      Erraiam Flatic         True  "
      ]
     },
     "execution_count": 72,
     "metadata": {},
     "output_type": "execute_result"
    }
   ],
   "source": [
    "df[:10]"
   ]
  },
  {
   "cell_type": "code",
   "execution_count": 73,
   "metadata": {},
   "outputs": [
    {
     "data": {
      "text/html": [
       "<div>\n",
       "<style scoped>\n",
       "    .dataframe tbody tr th:only-of-type {\n",
       "        vertical-align: middle;\n",
       "    }\n",
       "\n",
       "    .dataframe tbody tr th {\n",
       "        vertical-align: top;\n",
       "    }\n",
       "\n",
       "    .dataframe thead th {\n",
       "        text-align: right;\n",
       "    }\n",
       "</style>\n",
       "<table border=\"1\" class=\"dataframe\">\n",
       "  <thead>\n",
       "    <tr style=\"text-align: right;\">\n",
       "      <th></th>\n",
       "      <th>PassengerId</th>\n",
       "      <th>Age</th>\n",
       "      <th>RoomService</th>\n",
       "      <th>FoodCourt</th>\n",
       "      <th>ShoppingMall</th>\n",
       "      <th>Spa</th>\n",
       "      <th>VRDeck</th>\n",
       "      <th>Name</th>\n",
       "      <th>Transported</th>\n",
       "      <th>HomePlanet_Europa</th>\n",
       "      <th>HomePlanet_Mars</th>\n",
       "      <th>CryoSleep_True</th>\n",
       "      <th>Destination_PSO J318.5-22</th>\n",
       "      <th>Destination_TRAPPIST-1e</th>\n",
       "      <th>VIP_True</th>\n",
       "    </tr>\n",
       "  </thead>\n",
       "  <tbody>\n",
       "    <tr>\n",
       "      <th>0</th>\n",
       "      <td>0001_01</td>\n",
       "      <td>0.703529</td>\n",
       "      <td>-0.334438</td>\n",
       "      <td>-0.287815</td>\n",
       "      <td>-0.310955</td>\n",
       "      <td>-0.271765</td>\n",
       "      <td>-0.266596</td>\n",
       "      <td>Maham Ofracculy</td>\n",
       "      <td>False</td>\n",
       "      <td>True</td>\n",
       "      <td>False</td>\n",
       "      <td>False</td>\n",
       "      <td>False</td>\n",
       "      <td>True</td>\n",
       "      <td>False</td>\n",
       "    </tr>\n",
       "    <tr>\n",
       "      <th>1</th>\n",
       "      <td>0002_01</td>\n",
       "      <td>-0.341356</td>\n",
       "      <td>-0.169474</td>\n",
       "      <td>-0.282264</td>\n",
       "      <td>-0.266391</td>\n",
       "      <td>0.205914</td>\n",
       "      <td>-0.227261</td>\n",
       "      <td>Juanna Vines</td>\n",
       "      <td>True</td>\n",
       "      <td>False</td>\n",
       "      <td>False</td>\n",
       "      <td>False</td>\n",
       "      <td>False</td>\n",
       "      <td>True</td>\n",
       "      <td>False</td>\n",
       "    </tr>\n",
       "    <tr>\n",
       "      <th>2</th>\n",
       "      <td>0003_01</td>\n",
       "      <td>2.027050</td>\n",
       "      <td>-0.269361</td>\n",
       "      <td>1.917867</td>\n",
       "      <td>-0.310955</td>\n",
       "      <td>5.570881</td>\n",
       "      <td>-0.222791</td>\n",
       "      <td>Altark Susent</td>\n",
       "      <td>False</td>\n",
       "      <td>True</td>\n",
       "      <td>False</td>\n",
       "      <td>False</td>\n",
       "      <td>False</td>\n",
       "      <td>True</td>\n",
       "      <td>True</td>\n",
       "    </tr>\n",
       "    <tr>\n",
       "      <th>3</th>\n",
       "      <td>0003_02</td>\n",
       "      <td>0.285575</td>\n",
       "      <td>-0.334438</td>\n",
       "      <td>0.503541</td>\n",
       "      <td>0.350383</td>\n",
       "      <td>2.624761</td>\n",
       "      <td>-0.094060</td>\n",
       "      <td>Solam Susent</td>\n",
       "      <td>False</td>\n",
       "      <td>True</td>\n",
       "      <td>False</td>\n",
       "      <td>False</td>\n",
       "      <td>False</td>\n",
       "      <td>True</td>\n",
       "      <td>False</td>\n",
       "    </tr>\n",
       "    <tr>\n",
       "      <th>4</th>\n",
       "      <td>0004_01</td>\n",
       "      <td>-0.898628</td>\n",
       "      <td>0.124131</td>\n",
       "      <td>-0.244639</td>\n",
       "      <td>-0.041785</td>\n",
       "      <td>0.219835</td>\n",
       "      <td>-0.264808</td>\n",
       "      <td>Willy Santantines</td>\n",
       "      <td>True</td>\n",
       "      <td>False</td>\n",
       "      <td>False</td>\n",
       "      <td>False</td>\n",
       "      <td>False</td>\n",
       "      <td>True</td>\n",
       "      <td>False</td>\n",
       "    </tr>\n",
       "  </tbody>\n",
       "</table>\n",
       "</div>"
      ],
      "text/plain": [
       "  PassengerId       Age  RoomService  FoodCourt  ShoppingMall       Spa  \\\n",
       "0     0001_01  0.703529    -0.334438  -0.287815     -0.310955 -0.271765   \n",
       "1     0002_01 -0.341356    -0.169474  -0.282264     -0.266391  0.205914   \n",
       "2     0003_01  2.027050    -0.269361   1.917867     -0.310955  5.570881   \n",
       "3     0003_02  0.285575    -0.334438   0.503541      0.350383  2.624761   \n",
       "4     0004_01 -0.898628     0.124131  -0.244639     -0.041785  0.219835   \n",
       "\n",
       "     VRDeck               Name  Transported  HomePlanet_Europa  \\\n",
       "0 -0.266596    Maham Ofracculy        False               True   \n",
       "1 -0.227261       Juanna Vines         True              False   \n",
       "2 -0.222791      Altark Susent        False               True   \n",
       "3 -0.094060       Solam Susent        False               True   \n",
       "4 -0.264808  Willy Santantines         True              False   \n",
       "\n",
       "   HomePlanet_Mars  CryoSleep_True  Destination_PSO J318.5-22  \\\n",
       "0            False           False                      False   \n",
       "1            False           False                      False   \n",
       "2            False           False                      False   \n",
       "3            False           False                      False   \n",
       "4            False           False                      False   \n",
       "\n",
       "   Destination_TRAPPIST-1e  VIP_True  \n",
       "0                     True     False  \n",
       "1                     True     False  \n",
       "2                     True      True  \n",
       "3                     True     False  \n",
       "4                     True     False  "
      ]
     },
     "execution_count": 73,
     "metadata": {},
     "output_type": "execute_result"
    }
   ],
   "source": [
    "df = pd.get_dummies(df, columns=['HomePlanet', 'CryoSleep', 'Destination', 'VIP'], drop_first=True)\n",
    "df[:5]"
   ]
  },
  {
   "cell_type": "markdown",
   "metadata": {},
   "source": [
    "2) Разделение данных на train и test"
   ]
  },
  {
   "cell_type": "code",
   "execution_count": 74,
   "metadata": {},
   "outputs": [],
   "source": [
    "train_df = df.sample(frac=0.8, random_state=42)\n",
    "test_df = df.drop(train_df.index)"
   ]
  },
  {
   "cell_type": "code",
   "execution_count": 75,
   "metadata": {},
   "outputs": [
    {
     "data": {
      "text/plain": [
       "(6069, 1517)"
      ]
     },
     "execution_count": 75,
     "metadata": {},
     "output_type": "execute_result"
    }
   ],
   "source": [
    "train_df.shape[0], test_df.shape[0]"
   ]
  },
  {
   "cell_type": "code",
   "execution_count": 76,
   "metadata": {},
   "outputs": [
    {
     "data": {
      "text/html": [
       "<div>\n",
       "<style scoped>\n",
       "    .dataframe tbody tr th:only-of-type {\n",
       "        vertical-align: middle;\n",
       "    }\n",
       "\n",
       "    .dataframe tbody tr th {\n",
       "        vertical-align: top;\n",
       "    }\n",
       "\n",
       "    .dataframe thead th {\n",
       "        text-align: right;\n",
       "    }\n",
       "</style>\n",
       "<table border=\"1\" class=\"dataframe\">\n",
       "  <thead>\n",
       "    <tr style=\"text-align: right;\">\n",
       "      <th></th>\n",
       "      <th>PassengerId</th>\n",
       "      <th>Age</th>\n",
       "      <th>RoomService</th>\n",
       "      <th>FoodCourt</th>\n",
       "      <th>ShoppingMall</th>\n",
       "      <th>Spa</th>\n",
       "      <th>VRDeck</th>\n",
       "      <th>Name</th>\n",
       "      <th>Transported</th>\n",
       "      <th>HomePlanet_Europa</th>\n",
       "      <th>HomePlanet_Mars</th>\n",
       "      <th>CryoSleep_True</th>\n",
       "      <th>Destination_PSO J318.5-22</th>\n",
       "      <th>Destination_TRAPPIST-1e</th>\n",
       "      <th>VIP_True</th>\n",
       "    </tr>\n",
       "  </thead>\n",
       "  <tbody>\n",
       "    <tr>\n",
       "      <th>886</th>\n",
       "      <td>0951_01</td>\n",
       "      <td>0.633870</td>\n",
       "      <td>-0.334438</td>\n",
       "      <td>-0.287815</td>\n",
       "      <td>-0.310955</td>\n",
       "      <td>-0.271765</td>\n",
       "      <td>-0.266596</td>\n",
       "      <td>Done Lunapperts</td>\n",
       "      <td>True</td>\n",
       "      <td>False</td>\n",
       "      <td>False</td>\n",
       "      <td>True</td>\n",
       "      <td>True</td>\n",
       "      <td>False</td>\n",
       "      <td>False</td>\n",
       "    </tr>\n",
       "    <tr>\n",
       "      <th>735</th>\n",
       "      <td>0772_01</td>\n",
       "      <td>0.564211</td>\n",
       "      <td>-0.334438</td>\n",
       "      <td>-0.277946</td>\n",
       "      <td>0.268384</td>\n",
       "      <td>3.622753</td>\n",
       "      <td>0.948307</td>\n",
       "      <td>Minoton Hednigic</td>\n",
       "      <td>False</td>\n",
       "      <td>True</td>\n",
       "      <td>False</td>\n",
       "      <td>False</td>\n",
       "      <td>False</td>\n",
       "      <td>False</td>\n",
       "      <td>False</td>\n",
       "    </tr>\n",
       "    <tr>\n",
       "      <th>1013</th>\n",
       "      <td>1083_01</td>\n",
       "      <td>-0.132379</td>\n",
       "      <td>-0.334438</td>\n",
       "      <td>-0.287815</td>\n",
       "      <td>-0.310955</td>\n",
       "      <td>-0.271765</td>\n",
       "      <td>-0.266596</td>\n",
       "      <td>Ste Sfin</td>\n",
       "      <td>True</td>\n",
       "      <td>False</td>\n",
       "      <td>True</td>\n",
       "      <td>True</td>\n",
       "      <td>False</td>\n",
       "      <td>True</td>\n",
       "      <td>False</td>\n",
       "    </tr>\n",
       "    <tr>\n",
       "      <th>4998</th>\n",
       "      <td>5341_01</td>\n",
       "      <td>-0.619992</td>\n",
       "      <td>-0.334438</td>\n",
       "      <td>-0.287815</td>\n",
       "      <td>-0.310955</td>\n",
       "      <td>-0.271765</td>\n",
       "      <td>-0.266596</td>\n",
       "      <td>Jessa Greenez</td>\n",
       "      <td>True</td>\n",
       "      <td>False</td>\n",
       "      <td>False</td>\n",
       "      <td>True</td>\n",
       "      <td>False</td>\n",
       "      <td>True</td>\n",
       "      <td>False</td>\n",
       "    </tr>\n",
       "    <tr>\n",
       "      <th>6395</th>\n",
       "      <td>6756_02</td>\n",
       "      <td>1.191142</td>\n",
       "      <td>-0.334438</td>\n",
       "      <td>-0.287815</td>\n",
       "      <td>1.013505</td>\n",
       "      <td>-0.268284</td>\n",
       "      <td>-0.261232</td>\n",
       "      <td>Monah Pittson</td>\n",
       "      <td>True</td>\n",
       "      <td>False</td>\n",
       "      <td>False</td>\n",
       "      <td>False</td>\n",
       "      <td>True</td>\n",
       "      <td>False</td>\n",
       "      <td>False</td>\n",
       "    </tr>\n",
       "  </tbody>\n",
       "</table>\n",
       "</div>"
      ],
      "text/plain": [
       "     PassengerId       Age  RoomService  FoodCourt  ShoppingMall       Spa  \\\n",
       "886      0951_01  0.633870    -0.334438  -0.287815     -0.310955 -0.271765   \n",
       "735      0772_01  0.564211    -0.334438  -0.277946      0.268384  3.622753   \n",
       "1013     1083_01 -0.132379    -0.334438  -0.287815     -0.310955 -0.271765   \n",
       "4998     5341_01 -0.619992    -0.334438  -0.287815     -0.310955 -0.271765   \n",
       "6395     6756_02  1.191142    -0.334438  -0.287815      1.013505 -0.268284   \n",
       "\n",
       "        VRDeck              Name  Transported  HomePlanet_Europa  \\\n",
       "886  -0.266596   Done Lunapperts         True              False   \n",
       "735   0.948307  Minoton Hednigic        False               True   \n",
       "1013 -0.266596          Ste Sfin         True              False   \n",
       "4998 -0.266596     Jessa Greenez         True              False   \n",
       "6395 -0.261232     Monah Pittson         True              False   \n",
       "\n",
       "      HomePlanet_Mars  CryoSleep_True  Destination_PSO J318.5-22  \\\n",
       "886             False            True                       True   \n",
       "735             False           False                      False   \n",
       "1013             True            True                      False   \n",
       "4998            False            True                      False   \n",
       "6395            False           False                       True   \n",
       "\n",
       "      Destination_TRAPPIST-1e  VIP_True  \n",
       "886                     False     False  \n",
       "735                     False     False  \n",
       "1013                     True     False  \n",
       "4998                     True     False  \n",
       "6395                    False     False  "
      ]
     },
     "execution_count": 76,
     "metadata": {},
     "output_type": "execute_result"
    }
   ],
   "source": [
    "train_df[:5]"
   ]
  },
  {
   "cell_type": "code",
   "execution_count": 77,
   "metadata": {},
   "outputs": [],
   "source": [
    "\n",
    "X = train_df.drop(['Transported', 'Name', 'PassengerId'], axis=1, errors='ignore').astype(float)\n",
    "X_np = X.to_numpy()\n",
    "X_train = torch.tensor(X_np, dtype=torch.float)\n",
    "y = train_df['Transported'].astype(float)  # Преобразование в float для совместимости\n",
    "y_np = y.to_numpy()\n",
    "y_train = torch.tensor(y_np, dtype=torch.float).view(-1, 1)  # Добавляем размерность для совместимости с BCELoss\n",
    "\n",
    "train_dataset = TensorDataset(X_train, y_train)\n",
    "train_loader = DataLoader(dataset=train_dataset, batch_size=64, shuffle=True)\n",
    "\n"
   ]
  },
  {
   "cell_type": "code",
   "execution_count": 78,
   "metadata": {},
   "outputs": [
    {
     "data": {
      "text/html": [
       "<div>\n",
       "<style scoped>\n",
       "    .dataframe tbody tr th:only-of-type {\n",
       "        vertical-align: middle;\n",
       "    }\n",
       "\n",
       "    .dataframe tbody tr th {\n",
       "        vertical-align: top;\n",
       "    }\n",
       "\n",
       "    .dataframe thead th {\n",
       "        text-align: right;\n",
       "    }\n",
       "</style>\n",
       "<table border=\"1\" class=\"dataframe\">\n",
       "  <thead>\n",
       "    <tr style=\"text-align: right;\">\n",
       "      <th></th>\n",
       "      <th>PassengerId</th>\n",
       "      <th>Age</th>\n",
       "      <th>RoomService</th>\n",
       "      <th>FoodCourt</th>\n",
       "      <th>ShoppingMall</th>\n",
       "      <th>Spa</th>\n",
       "      <th>VRDeck</th>\n",
       "      <th>Name</th>\n",
       "      <th>Transported</th>\n",
       "      <th>HomePlanet_Europa</th>\n",
       "      <th>HomePlanet_Mars</th>\n",
       "      <th>CryoSleep_True</th>\n",
       "      <th>Destination_PSO J318.5-22</th>\n",
       "      <th>Destination_TRAPPIST-1e</th>\n",
       "      <th>VIP_True</th>\n",
       "    </tr>\n",
       "  </thead>\n",
       "  <tbody>\n",
       "    <tr>\n",
       "      <th>886</th>\n",
       "      <td>0951_01</td>\n",
       "      <td>0.633870</td>\n",
       "      <td>-0.334438</td>\n",
       "      <td>-0.287815</td>\n",
       "      <td>-0.310955</td>\n",
       "      <td>-0.271765</td>\n",
       "      <td>-0.266596</td>\n",
       "      <td>Done Lunapperts</td>\n",
       "      <td>True</td>\n",
       "      <td>False</td>\n",
       "      <td>False</td>\n",
       "      <td>True</td>\n",
       "      <td>True</td>\n",
       "      <td>False</td>\n",
       "      <td>False</td>\n",
       "    </tr>\n",
       "    <tr>\n",
       "      <th>735</th>\n",
       "      <td>0772_01</td>\n",
       "      <td>0.564211</td>\n",
       "      <td>-0.334438</td>\n",
       "      <td>-0.277946</td>\n",
       "      <td>0.268384</td>\n",
       "      <td>3.622753</td>\n",
       "      <td>0.948307</td>\n",
       "      <td>Minoton Hednigic</td>\n",
       "      <td>False</td>\n",
       "      <td>True</td>\n",
       "      <td>False</td>\n",
       "      <td>False</td>\n",
       "      <td>False</td>\n",
       "      <td>False</td>\n",
       "      <td>False</td>\n",
       "    </tr>\n",
       "    <tr>\n",
       "      <th>1013</th>\n",
       "      <td>1083_01</td>\n",
       "      <td>-0.132379</td>\n",
       "      <td>-0.334438</td>\n",
       "      <td>-0.287815</td>\n",
       "      <td>-0.310955</td>\n",
       "      <td>-0.271765</td>\n",
       "      <td>-0.266596</td>\n",
       "      <td>Ste Sfin</td>\n",
       "      <td>True</td>\n",
       "      <td>False</td>\n",
       "      <td>True</td>\n",
       "      <td>True</td>\n",
       "      <td>False</td>\n",
       "      <td>True</td>\n",
       "      <td>False</td>\n",
       "    </tr>\n",
       "    <tr>\n",
       "      <th>4998</th>\n",
       "      <td>5341_01</td>\n",
       "      <td>-0.619992</td>\n",
       "      <td>-0.334438</td>\n",
       "      <td>-0.287815</td>\n",
       "      <td>-0.310955</td>\n",
       "      <td>-0.271765</td>\n",
       "      <td>-0.266596</td>\n",
       "      <td>Jessa Greenez</td>\n",
       "      <td>True</td>\n",
       "      <td>False</td>\n",
       "      <td>False</td>\n",
       "      <td>True</td>\n",
       "      <td>False</td>\n",
       "      <td>True</td>\n",
       "      <td>False</td>\n",
       "    </tr>\n",
       "    <tr>\n",
       "      <th>6395</th>\n",
       "      <td>6756_02</td>\n",
       "      <td>1.191142</td>\n",
       "      <td>-0.334438</td>\n",
       "      <td>-0.287815</td>\n",
       "      <td>1.013505</td>\n",
       "      <td>-0.268284</td>\n",
       "      <td>-0.261232</td>\n",
       "      <td>Monah Pittson</td>\n",
       "      <td>True</td>\n",
       "      <td>False</td>\n",
       "      <td>False</td>\n",
       "      <td>False</td>\n",
       "      <td>True</td>\n",
       "      <td>False</td>\n",
       "      <td>False</td>\n",
       "    </tr>\n",
       "  </tbody>\n",
       "</table>\n",
       "</div>"
      ],
      "text/plain": [
       "     PassengerId       Age  RoomService  FoodCourt  ShoppingMall       Spa  \\\n",
       "886      0951_01  0.633870    -0.334438  -0.287815     -0.310955 -0.271765   \n",
       "735      0772_01  0.564211    -0.334438  -0.277946      0.268384  3.622753   \n",
       "1013     1083_01 -0.132379    -0.334438  -0.287815     -0.310955 -0.271765   \n",
       "4998     5341_01 -0.619992    -0.334438  -0.287815     -0.310955 -0.271765   \n",
       "6395     6756_02  1.191142    -0.334438  -0.287815      1.013505 -0.268284   \n",
       "\n",
       "        VRDeck              Name  Transported  HomePlanet_Europa  \\\n",
       "886  -0.266596   Done Lunapperts         True              False   \n",
       "735   0.948307  Minoton Hednigic        False               True   \n",
       "1013 -0.266596          Ste Sfin         True              False   \n",
       "4998 -0.266596     Jessa Greenez         True              False   \n",
       "6395 -0.261232     Monah Pittson         True              False   \n",
       "\n",
       "      HomePlanet_Mars  CryoSleep_True  Destination_PSO J318.5-22  \\\n",
       "886             False            True                       True   \n",
       "735             False           False                      False   \n",
       "1013             True            True                      False   \n",
       "4998            False            True                      False   \n",
       "6395            False           False                       True   \n",
       "\n",
       "      Destination_TRAPPIST-1e  VIP_True  \n",
       "886                     False     False  \n",
       "735                     False     False  \n",
       "1013                     True     False  \n",
       "4998                     True     False  \n",
       "6395                    False     False  "
      ]
     },
     "execution_count": 78,
     "metadata": {},
     "output_type": "execute_result"
    }
   ],
   "source": [
    "train_df[:5]"
   ]
  },
  {
   "cell_type": "markdown",
   "metadata": {},
   "source": [
    "3) Определите модель torch, для этого определите количество входов и выходов"
   ]
  },
  {
   "cell_type": "code",
   "execution_count": 79,
   "metadata": {},
   "outputs": [
    {
     "data": {
      "text/plain": [
       "(12, 1)"
      ]
     },
     "execution_count": 79,
     "metadata": {},
     "output_type": "execute_result"
    }
   ],
   "source": [
    "N_INPUT = X.shape[1]\n",
    "N_OUTPUT = 1\n",
    "N_INPUT, N_OUTPUT"
   ]
  },
  {
   "cell_type": "markdown",
   "metadata": {},
   "source": [
    "Определите модель с 2 скрытыми слоями "
   ]
  },
  {
   "cell_type": "code",
   "execution_count": 102,
   "metadata": {},
   "outputs": [],
   "source": [
    "N_HIDDEN1 = 26 \n",
    "N_HIDDEN2 = 13\n",
    "\n",
    "model = nn.Sequential(\n",
    "    nn.Linear(N_INPUT, N_HIDDEN1),\n",
    "    nn.ReLU(),\n",
    "    nn.Linear(N_HIDDEN1, N_HIDDEN2),\n",
    "    nn.ReLU(),\n",
    "    nn.Linear(N_HIDDEN2, N_OUTPUT),\n",
    "    nn.Sigmoid()\n",
    ")"
   ]
  },
  {
   "cell_type": "markdown",
   "metadata": {},
   "source": [
    "Определите функцию потерь и оптимизатор"
   ]
  },
  {
   "cell_type": "code",
   "execution_count": 103,
   "metadata": {},
   "outputs": [],
   "source": [
    "criterion = nn.BCELoss()  # Функция потерь\n",
    "optimizer = torch.optim.Adam(model.parameters(), lr=0.001)  # Оптимизатор Adam"
   ]
  },
  {
   "cell_type": "markdown",
   "metadata": {},
   "source": [
    "4) Обучение модели - реализуйте цикл обучения"
   ]
  },
  {
   "cell_type": "code",
   "execution_count": 99,
   "metadata": {},
   "outputs": [],
   "source": [
    "epochs = 20\n",
    "batch_size = 64"
   ]
  },
  {
   "cell_type": "code",
   "execution_count": 86,
   "metadata": {},
   "outputs": [
    {
     "name": "stdout",
     "output_type": "stream",
     "text": [
      "Эпоха [1/20], Loss: 0.4266681887601551\n",
      "Эпоха [2/20], Loss: 0.42699626433221916\n",
      "Эпоха [3/20], Loss: 0.42628156323181954\n",
      "Эпоха [4/20], Loss: 0.42619096542659557\n",
      "Эпоха [5/20], Loss: 0.4258824558634507\n",
      "Эпоха [6/20], Loss: 0.42528022496323836\n",
      "Эпоха [7/20], Loss: 0.42516844868659975\n",
      "Эпоха [8/20], Loss: 0.42411317041045743\n",
      "Эпоха [9/20], Loss: 0.42401725618462816\n",
      "Эпоха [10/20], Loss: 0.42386056247510406\n",
      "Эпоха [11/20], Loss: 0.42337316055046886\n",
      "Эпоха [12/20], Loss: 0.4229733250643078\n",
      "Эпоха [13/20], Loss: 0.42367395539032787\n",
      "Эпоха [14/20], Loss: 0.42305878149835685\n",
      "Эпоха [15/20], Loss: 0.4228029793814609\n",
      "Эпоха [16/20], Loss: 0.42262586888514064\n",
      "Эпоха [17/20], Loss: 0.4231581098154972\n",
      "Эпоха [18/20], Loss: 0.42252271300867983\n",
      "Эпоха [19/20], Loss: 0.4218062294156928\n",
      "Эпоха [20/20], Loss: 0.4219575540015572\n"
     ]
    }
   ],
   "source": [
    "def lern(epochs, train_loader, optimizer, criterion):\n",
    "    for epoch in range(epochs):\n",
    "        epoch_loss = 0.0\n",
    "        for i, (inputs, labels) in enumerate(train_loader):\n",
    "            optimizer.zero_grad()\n",
    "            outputs = model(inputs)\n",
    "            loss = criterion(outputs, labels)\n",
    "            loss.backward()\n",
    "            optimizer.step()\n",
    "            epoch_loss += loss.item()\n",
    "            if (i + 1) % 100 == 0:\n",
    "                print(f'Эпоха [{epoch + 1}/{epochs}], Шаг [{i + 1}/{len(train_loader)}], Loss: {epoch_loss / (i + 1)}')\n",
    "        print(f'Эпоха [{epoch + 1}/{epochs}], Loss: {epoch_loss / len(train_loader)}')\n",
    "\n",
    "lern(epochs, train_loader, optimizer, criterion)"
   ]
  },
  {
   "cell_type": "markdown",
   "metadata": {},
   "source": [
    "5) Выведите метрики модели"
   ]
  },
  {
   "cell_type": "code",
   "execution_count": 88,
   "metadata": {},
   "outputs": [
    {
     "name": "stdout",
     "output_type": "stream",
     "text": [
      "0.8094924192485168\n",
      "0.7917647058823529\n",
      "0.8573248407643312\n",
      "0.8232415902140673\n"
     ]
    }
   ],
   "source": [
    "from sklearn.metrics import accuracy_score, precision_score, recall_score, f1_score\n",
    "\n",
    "\n",
    "X_test = test_df.drop(['Transported', 'Name', 'PassengerId'], axis=1, errors='ignore').astype(float)\n",
    "y_test = test_df['Transported'].astype(float)\n",
    "X_test_tensor = torch.tensor(X_test.values, dtype=torch.float)\n",
    "y_test_tensor = torch.tensor(y_test.values, dtype=torch.float).view(-1, 1)\n",
    "\n",
    "def metrics(model, X_test_tensor, y_test_tensor):\n",
    "    model.eval() \n",
    "    with torch.no_grad():\n",
    "        predictions = model(X_test_tensor).round()  # округление до 0 или 1\n",
    "\n",
    "    \n",
    "    predictions_np = predictions.numpy()\n",
    "    y_test_np = y_test_tensor.numpy()\n",
    "\n",
    "    accuracy = accuracy_score(y_test_np, predictions_np)\n",
    "    precision = precision_score(y_test_np, predictions_np)\n",
    "    recall = recall_score(y_test_np, predictions_np)\n",
    "    f1 = f1_score(y_test_np, predictions_np)\n",
    "\n",
    "    print(accuracy)\n",
    "    print(precision)\n",
    "    print(recall)\n",
    "    print(f1)\n",
    "    \n",
    "metrics(model, X_test_tensor, y_test_tensor)"
   ]
  },
  {
   "cell_type": "markdown",
   "metadata": {},
   "source": [
    "6) Поварьируйте параметры модели, оптимизатор - посмотрите как параметры влияют на метрики и скорость сходимости"
   ]
  },
  {
   "cell_type": "code",
   "execution_count": 90,
   "metadata": {},
   "outputs": [],
   "source": [
    "# увеличение количества нейронов\n",
    "N_HIDDEN1 = 52  \n",
    "N_HIDDEN2 = 26  \n",
    "\n",
    "model = nn.Sequential(\n",
    "    nn.Linear(N_INPUT, N_HIDDEN1),\n",
    "    nn.ReLU(),\n",
    "    nn.Linear(N_HIDDEN1, N_HIDDEN2),\n",
    "    nn.ReLU(),\n",
    "    nn.Linear(N_HIDDEN2, N_OUTPUT),\n",
    "    nn.Sigmoid()\n",
    ")"
   ]
  },
  {
   "cell_type": "code",
   "execution_count": 91,
   "metadata": {},
   "outputs": [
    {
     "name": "stdout",
     "output_type": "stream",
     "text": [
      "Эпоха [1/20], Loss: 0.6963554476436816\n",
      "Эпоха [2/20], Loss: 0.6963628674808301\n",
      "Эпоха [3/20], Loss: 0.6963634516063489\n",
      "Эпоха [4/20], Loss: 0.6963582396507263\n",
      "Эпоха [5/20], Loss: 0.696366044094688\n",
      "Эпоха [6/20], Loss: 0.6963600491222582\n",
      "Эпоха [7/20], Loss: 0.6963643670082093\n",
      "Эпоха [8/20], Loss: 0.6963586418252242\n",
      "Эпоха [9/20], Loss: 0.6963605523109436\n",
      "Эпоха [10/20], Loss: 0.6963531531785664\n",
      "Эпоха [11/20], Loss: 0.6963620938752827\n",
      "Эпоха [12/20], Loss: 0.6963655798058761\n",
      "Эпоха [13/20], Loss: 0.6963595415416517\n",
      "Эпоха [14/20], Loss: 0.6963695187317698\n",
      "Эпоха [15/20], Loss: 0.6963736653327942\n",
      "Эпоха [16/20], Loss: 0.6963601614299574\n",
      "Эпоха [17/20], Loss: 0.6963493598134894\n",
      "Эпоха [18/20], Loss: 0.6963693813273781\n",
      "Эпоха [19/20], Loss: 0.6963531418850547\n",
      "Эпоха [20/20], Loss: 0.69637337672083\n",
      "0.5003295978905735\n",
      "0.5906040268456376\n",
      "0.11210191082802548\n",
      "0.18843683083511778\n"
     ]
    }
   ],
   "source": [
    "lern(epochs, train_loader, optimizer, criterion)\n",
    "metrics(model, X_test_tensor, y_test_tensor)"
   ]
  },
  {
   "cell_type": "code",
   "execution_count": 95,
   "metadata": {},
   "outputs": [
    {
     "name": "stdout",
     "output_type": "stream",
     "text": [
      "Эпоха [1/20], Loss: 0.6926744630462245\n",
      "Эпоха [2/20], Loss: 0.6926688238194114\n",
      "Эпоха [3/20], Loss: 0.6926511814719752\n",
      "Эпоха [4/20], Loss: 0.6926671184991535\n",
      "Эпоха [5/20], Loss: 0.6926696325603284\n",
      "Эпоха [6/20], Loss: 0.6926670494832491\n",
      "Эпоха [7/20], Loss: 0.6926636495088276\n",
      "Эпоха [8/20], Loss: 0.6926711527924788\n",
      "Эпоха [9/20], Loss: 0.6926607960148862\n",
      "Эпоха [10/20], Loss: 0.6926585442141483\n",
      "Эпоха [11/20], Loss: 0.6926619529724121\n",
      "Эпоха [12/20], Loss: 0.692669153213501\n",
      "Эпоха [13/20], Loss: 0.692661400217759\n",
      "Эпоха [14/20], Loss: 0.6926653642403452\n",
      "Эпоха [15/20], Loss: 0.6926671818683022\n",
      "Эпоха [16/20], Loss: 0.6926713341160824\n",
      "Эпоха [17/20], Loss: 0.6926812774256657\n",
      "Эпоха [18/20], Loss: 0.6926646577684503\n",
      "Эпоха [19/20], Loss: 0.692673302951612\n",
      "Эпоха [20/20], Loss: 0.6926563476261339\n",
      "0.5293342122610415\n",
      "0.5237140948563794\n",
      "0.9987261146496815\n",
      "0.6871165644171779\n"
     ]
    }
   ],
   "source": [
    "# Изменение оптимизатора\n",
    "optimizer = torch.optim.SGD(model.parameters(), lr=0.001)  # Использование SGD вместо Adam\n",
    "\n",
    "\n",
    "model = nn.Sequential(\n",
    "    nn.Linear(N_INPUT, N_HIDDEN1),\n",
    "    nn.ReLU(),\n",
    "    nn.Linear(N_HIDDEN1, N_HIDDEN2),\n",
    "    nn.ReLU(),\n",
    "    nn.Linear(N_HIDDEN2, N_OUTPUT),\n",
    "    nn.Sigmoid()\n",
    ")\n",
    "lern(epochs, train_loader, optimizer, criterion)\n",
    "metrics(model, X_test_tensor, y_test_tensor)"
   ]
  },
  {
   "cell_type": "code",
   "execution_count": 101,
   "metadata": {},
   "outputs": [],
   "source": [
    "# Изменение размера батча\n",
    "\n",
    "batch_size = 128  # Увеличение размера батча\n",
    "\n",
    "# Создание нового DataLoader с измененным размером батча\n",
    "train_loader = DataLoader(dataset=train_dataset, batch_size=batch_size, shuffle=True)"
   ]
  },
  {
   "cell_type": "code",
   "execution_count": 104,
   "metadata": {},
   "outputs": [
    {
     "name": "stdout",
     "output_type": "stream",
     "text": [
      "Эпоха [1/20], Loss: 0.6779834541181723\n",
      "Эпоха [2/20], Loss: 0.6137389031549295\n",
      "Эпоха [3/20], Loss: 0.5094292772312959\n",
      "Эпоха [4/20], Loss: 0.45728949705759686\n",
      "Эпоха [5/20], Loss: 0.4444992144902547\n",
      "Эпоха [6/20], Loss: 0.4405236920962731\n",
      "Эпоха [7/20], Loss: 0.4389571485420068\n",
      "Эпоха [8/20], Loss: 0.4367892052978277\n",
      "Эпоха [9/20], Loss: 0.43582196657856304\n",
      "Эпоха [10/20], Loss: 0.4345147634545962\n",
      "Эпоха [11/20], Loss: 0.4338782435903947\n",
      "Эпоха [12/20], Loss: 0.434299632286032\n",
      "Эпоха [13/20], Loss: 0.4327590937415759\n",
      "Эпоха [14/20], Loss: 0.4321047042806943\n",
      "Эпоха [15/20], Loss: 0.4315802411486705\n",
      "Эпоха [16/20], Loss: 0.42975501095255214\n",
      "Эпоха [17/20], Loss: 0.43189873546361923\n",
      "Эпоха [18/20], Loss: 0.4307515745361646\n",
      "Эпоха [19/20], Loss: 0.4284814999749263\n",
      "Эпоха [20/20], Loss: 0.4292016625404358\n",
      "0.8068556361239289\n",
      "0.7907801418439716\n",
      "0.8522292993630574\n",
      "0.8203556100551809\n"
     ]
    }
   ],
   "source": [
    "lern(epochs, train_loader, optimizer, criterion)\n",
    "metrics(model, X_test_tensor, y_test_tensor)"
   ]
  },
  {
   "cell_type": "markdown",
   "metadata": {},
   "source": [
    "## Регрессия"
   ]
  },
  {
   "cell_type": "markdown",
   "metadata": {},
   "source": [
    "Для задачи прогнозирования будет использоваться набор [прогноза аренды жилья](https://drive.google.com/file/d/1CH6FKsiw_k1nt_CJm5jFMUWsD1p0G3Km/view?usp=sharing). Описание датасета на [kaggle](https://www.kaggle.com/datasets/iamsouravbanerjee/house-rent-prediction-dataset?select=House_Rent_Dataset.csv)"
   ]
  },
  {
   "cell_type": "markdown",
   "metadata": {},
   "source": [
    "1) Импорт и обработка данных\n",
    "\n",
    "- обработкайте пропуски, \n",
    "\n",
    "- масштабирование данных,\n",
    "\n",
    "- обработка категориальных признаков"
   ]
  },
  {
   "cell_type": "code",
   "execution_count": 170,
   "metadata": {},
   "outputs": [],
   "source": [
    "import pandas as pd\n",
    "import numpy as np\n",
    "import seaborn as sns\n",
    "import matplotlib.pyplot as plt\n",
    "%matplotlib inline\n",
    "from sklearn import preprocessing"
   ]
  },
  {
   "cell_type": "code",
   "execution_count": 171,
   "metadata": {},
   "outputs": [],
   "source": [
    "data = pd.read_csv('House_Rent_Dataset.csv')"
   ]
  },
  {
   "cell_type": "code",
   "execution_count": 172,
   "metadata": {},
   "outputs": [
    {
     "data": {
      "text/html": [
       "<div>\n",
       "<style scoped>\n",
       "    .dataframe tbody tr th:only-of-type {\n",
       "        vertical-align: middle;\n",
       "    }\n",
       "\n",
       "    .dataframe tbody tr th {\n",
       "        vertical-align: top;\n",
       "    }\n",
       "\n",
       "    .dataframe thead th {\n",
       "        text-align: right;\n",
       "    }\n",
       "</style>\n",
       "<table border=\"1\" class=\"dataframe\">\n",
       "  <thead>\n",
       "    <tr style=\"text-align: right;\">\n",
       "      <th></th>\n",
       "      <th>count</th>\n",
       "      <th>mean</th>\n",
       "      <th>std</th>\n",
       "      <th>min</th>\n",
       "      <th>25%</th>\n",
       "      <th>50%</th>\n",
       "      <th>75%</th>\n",
       "      <th>max</th>\n",
       "    </tr>\n",
       "  </thead>\n",
       "  <tbody>\n",
       "    <tr>\n",
       "      <th>BHK</th>\n",
       "      <td>4746.0</td>\n",
       "      <td>2.083860</td>\n",
       "      <td>0.832256</td>\n",
       "      <td>1.0</td>\n",
       "      <td>2.0</td>\n",
       "      <td>2.0</td>\n",
       "      <td>3.0</td>\n",
       "      <td>6.0</td>\n",
       "    </tr>\n",
       "    <tr>\n",
       "      <th>Rent</th>\n",
       "      <td>4746.0</td>\n",
       "      <td>34993.451327</td>\n",
       "      <td>78106.412937</td>\n",
       "      <td>1200.0</td>\n",
       "      <td>10000.0</td>\n",
       "      <td>16000.0</td>\n",
       "      <td>33000.0</td>\n",
       "      <td>3500000.0</td>\n",
       "    </tr>\n",
       "    <tr>\n",
       "      <th>Size</th>\n",
       "      <td>4746.0</td>\n",
       "      <td>967.490729</td>\n",
       "      <td>634.202328</td>\n",
       "      <td>10.0</td>\n",
       "      <td>550.0</td>\n",
       "      <td>850.0</td>\n",
       "      <td>1200.0</td>\n",
       "      <td>8000.0</td>\n",
       "    </tr>\n",
       "    <tr>\n",
       "      <th>Bathroom</th>\n",
       "      <td>4746.0</td>\n",
       "      <td>1.965866</td>\n",
       "      <td>0.884532</td>\n",
       "      <td>1.0</td>\n",
       "      <td>1.0</td>\n",
       "      <td>2.0</td>\n",
       "      <td>2.0</td>\n",
       "      <td>10.0</td>\n",
       "    </tr>\n",
       "  </tbody>\n",
       "</table>\n",
       "</div>"
      ],
      "text/plain": [
       "           count          mean           std     min      25%      50%  \\\n",
       "BHK       4746.0      2.083860      0.832256     1.0      2.0      2.0   \n",
       "Rent      4746.0  34993.451327  78106.412937  1200.0  10000.0  16000.0   \n",
       "Size      4746.0    967.490729    634.202328    10.0    550.0    850.0   \n",
       "Bathroom  4746.0      1.965866      0.884532     1.0      1.0      2.0   \n",
       "\n",
       "              75%        max  \n",
       "BHK           3.0        6.0  \n",
       "Rent      33000.0  3500000.0  \n",
       "Size       1200.0     8000.0  \n",
       "Bathroom      2.0       10.0  "
      ]
     },
     "execution_count": 172,
     "metadata": {},
     "output_type": "execute_result"
    }
   ],
   "source": [
    "data.describe().T"
   ]
  },
  {
   "cell_type": "code",
   "execution_count": 173,
   "metadata": {},
   "outputs": [
    {
     "data": {
      "text/html": [
       "<div>\n",
       "<style scoped>\n",
       "    .dataframe tbody tr th:only-of-type {\n",
       "        vertical-align: middle;\n",
       "    }\n",
       "\n",
       "    .dataframe tbody tr th {\n",
       "        vertical-align: top;\n",
       "    }\n",
       "\n",
       "    .dataframe thead th {\n",
       "        text-align: right;\n",
       "    }\n",
       "</style>\n",
       "<table border=\"1\" class=\"dataframe\">\n",
       "  <thead>\n",
       "    <tr style=\"text-align: right;\">\n",
       "      <th></th>\n",
       "      <th>Posted On</th>\n",
       "      <th>BHK</th>\n",
       "      <th>Rent</th>\n",
       "      <th>Size</th>\n",
       "      <th>Area Type</th>\n",
       "      <th>Area Locality</th>\n",
       "      <th>City</th>\n",
       "      <th>Furnishing Status</th>\n",
       "      <th>Tenant Preferred</th>\n",
       "      <th>Bathroom</th>\n",
       "      <th>Point of Contact</th>\n",
       "      <th>Floor Number</th>\n",
       "      <th>Total Floor</th>\n",
       "    </tr>\n",
       "  </thead>\n",
       "  <tbody>\n",
       "    <tr>\n",
       "      <th>870</th>\n",
       "      <td>2022-07-07</td>\n",
       "      <td>2</td>\n",
       "      <td>45000</td>\n",
       "      <td>710</td>\n",
       "      <td>Carpet Area</td>\n",
       "      <td>Saki Vihar Road</td>\n",
       "      <td>Mumbai</td>\n",
       "      <td>Unfurnished</td>\n",
       "      <td>Bachelors/Family</td>\n",
       "      <td>2</td>\n",
       "      <td>Contact Agent</td>\n",
       "      <td>8</td>\n",
       "      <td>16</td>\n",
       "    </tr>\n",
       "    <tr>\n",
       "      <th>35</th>\n",
       "      <td>2022-05-12</td>\n",
       "      <td>2</td>\n",
       "      <td>15000</td>\n",
       "      <td>850</td>\n",
       "      <td>Carpet Area</td>\n",
       "      <td>Sreebhumi</td>\n",
       "      <td>Kolkata</td>\n",
       "      <td>Semi-Furnished</td>\n",
       "      <td>Bachelors/Family</td>\n",
       "      <td>1</td>\n",
       "      <td>Contact Owner</td>\n",
       "      <td>1</td>\n",
       "      <td>2</td>\n",
       "    </tr>\n",
       "    <tr>\n",
       "      <th>2454</th>\n",
       "      <td>2022-05-27</td>\n",
       "      <td>2</td>\n",
       "      <td>9000</td>\n",
       "      <td>145</td>\n",
       "      <td>Super Area</td>\n",
       "      <td>Palam</td>\n",
       "      <td>Delhi</td>\n",
       "      <td>Unfurnished</td>\n",
       "      <td>Bachelors/Family</td>\n",
       "      <td>2</td>\n",
       "      <td>Contact Owner</td>\n",
       "      <td>1</td>\n",
       "      <td>3</td>\n",
       "    </tr>\n",
       "    <tr>\n",
       "      <th>250</th>\n",
       "      <td>2022-06-19</td>\n",
       "      <td>2</td>\n",
       "      <td>6000</td>\n",
       "      <td>600</td>\n",
       "      <td>Carpet Area</td>\n",
       "      <td>Santoshpur</td>\n",
       "      <td>Kolkata</td>\n",
       "      <td>Semi-Furnished</td>\n",
       "      <td>Bachelors/Family</td>\n",
       "      <td>1</td>\n",
       "      <td>Contact Owner</td>\n",
       "      <td>0</td>\n",
       "      <td>3</td>\n",
       "    </tr>\n",
       "    <tr>\n",
       "      <th>2689</th>\n",
       "      <td>2022-05-27</td>\n",
       "      <td>2</td>\n",
       "      <td>13000</td>\n",
       "      <td>400</td>\n",
       "      <td>Carpet Area</td>\n",
       "      <td>Rohini Sector 24</td>\n",
       "      <td>Delhi</td>\n",
       "      <td>Semi-Furnished</td>\n",
       "      <td>Bachelors/Family</td>\n",
       "      <td>2</td>\n",
       "      <td>Contact Agent</td>\n",
       "      <td>0</td>\n",
       "      <td>4</td>\n",
       "    </tr>\n",
       "  </tbody>\n",
       "</table>\n",
       "</div>"
      ],
      "text/plain": [
       "       Posted On  BHK   Rent  Size    Area Type     Area Locality     City  \\\n",
       "870   2022-07-07    2  45000   710  Carpet Area   Saki Vihar Road   Mumbai   \n",
       "35    2022-05-12    2  15000   850  Carpet Area         Sreebhumi  Kolkata   \n",
       "2454  2022-05-27    2   9000   145   Super Area             Palam    Delhi   \n",
       "250   2022-06-19    2   6000   600  Carpet Area        Santoshpur  Kolkata   \n",
       "2689  2022-05-27    2  13000   400  Carpet Area  Rohini Sector 24    Delhi   \n",
       "\n",
       "     Furnishing Status  Tenant Preferred  Bathroom Point of Contact  \\\n",
       "870        Unfurnished  Bachelors/Family         2    Contact Agent   \n",
       "35      Semi-Furnished  Bachelors/Family         1    Contact Owner   \n",
       "2454       Unfurnished  Bachelors/Family         2    Contact Owner   \n",
       "250     Semi-Furnished  Bachelors/Family         1    Contact Owner   \n",
       "2689    Semi-Furnished  Bachelors/Family         2    Contact Agent   \n",
       "\n",
       "     Floor Number Total Floor  \n",
       "870             8          16  \n",
       "35              1           2  \n",
       "2454            1           3  \n",
       "250             0           3  \n",
       "2689            0           4  "
      ]
     },
     "execution_count": 173,
     "metadata": {},
     "output_type": "execute_result"
    }
   ],
   "source": [
    "data[\"Floor Number\"]=data[\"Floor\"].apply(lambda x:str(x).split()[0])\n",
    "data[\"Total Floor\"]=data[\"Floor\"].apply(lambda x:str(x).split()[-1])\n",
    "del data[\"Floor\"]\n",
    "data[\"Floor Number\"] = data[\"Floor Number\"].replace(['Ground'],0)\n",
    "data[\"Floor Number\"] = data[\"Floor Number\"].replace(['Lower'],-2)\n",
    "data[\"Floor Number\"] = data[\"Floor Number\"].replace(['Upper'],-1)\n",
    "data[\"Floor Number\"] = data[\"Floor Number\"].replace(['Ground'],0)\n",
    "data[\"Total Floor\"] = data[\"Total Floor\"].replace(['Ground'],1)\n",
    "data.sample(5)\n"
   ]
  },
  {
   "cell_type": "code",
   "execution_count": 174,
   "metadata": {},
   "outputs": [
    {
     "data": {
      "text/plain": [
       "Total Floor\n",
       "4     938\n",
       "3     915\n",
       "2     868\n",
       "5     422\n",
       "1     335\n",
       "     ... \n",
       "39      1\n",
       "62      1\n",
       "59      1\n",
       "66      1\n",
       "1       1\n",
       "Name: count, Length: 67, dtype: int64"
      ]
     },
     "execution_count": 174,
     "metadata": {},
     "output_type": "execute_result"
    }
   ],
   "source": [
    "data[\"Total Floor\"].value_counts()\n",
    "\n"
   ]
  },
  {
   "cell_type": "code",
   "execution_count": 175,
   "metadata": {},
   "outputs": [
    {
     "data": {
      "text/plain": [
       "array([2, 1, 0])"
      ]
     },
     "execution_count": 175,
     "metadata": {},
     "output_type": "execute_result"
    }
   ],
   "source": [
    "label_encoder = preprocessing.LabelEncoder()\n",
    "data[\"Area Type\"]= label_encoder.fit_transform(data[\"Area Type\"])\n",
    "data[\"Area Type\"].unique()"
   ]
  },
  {
   "cell_type": "code",
   "execution_count": 176,
   "metadata": {},
   "outputs": [
    {
     "data": {
      "text/plain": [
       "array([2, 1, 0])"
      ]
     },
     "execution_count": 176,
     "metadata": {},
     "output_type": "execute_result"
    }
   ],
   "source": [
    "data[\"Furnishing Status\"]= label_encoder.fit_transform(data[\"Furnishing Status\"])\n",
    "data[\"Furnishing Status\"].unique()"
   ]
  },
  {
   "cell_type": "code",
   "execution_count": 178,
   "metadata": {},
   "outputs": [
    {
     "data": {
      "text/plain": [
       "array([1, 0, 2])"
      ]
     },
     "execution_count": 178,
     "metadata": {},
     "output_type": "execute_result"
    }
   ],
   "source": [
    "data[\"Tenant Preferred\"]= label_encoder.fit_transform(data[\"Tenant Preferred\"])\n",
    "data[\"Tenant Preferred\"].unique()"
   ]
  },
  {
   "cell_type": "code",
   "execution_count": 179,
   "metadata": {},
   "outputs": [
    {
     "data": {
      "text/plain": [
       "array([2, 0, 1])"
      ]
     },
     "execution_count": 179,
     "metadata": {},
     "output_type": "execute_result"
    }
   ],
   "source": [
    "data[\"Point of Contact\"]= label_encoder.fit_transform(data[\"Point of Contact\"])\n",
    "data[\"Point of Contact\"].unique()"
   ]
  },
  {
   "cell_type": "code",
   "execution_count": 182,
   "metadata": {},
   "outputs": [
    {
     "data": {
      "text/html": [
       "<div>\n",
       "<style scoped>\n",
       "    .dataframe tbody tr th:only-of-type {\n",
       "        vertical-align: middle;\n",
       "    }\n",
       "\n",
       "    .dataframe tbody tr th {\n",
       "        vertical-align: top;\n",
       "    }\n",
       "\n",
       "    .dataframe thead th {\n",
       "        text-align: right;\n",
       "    }\n",
       "</style>\n",
       "<table border=\"1\" class=\"dataframe\">\n",
       "  <thead>\n",
       "    <tr style=\"text-align: right;\">\n",
       "      <th></th>\n",
       "      <th>BHK</th>\n",
       "      <th>Rent</th>\n",
       "      <th>Size</th>\n",
       "      <th>Area Type</th>\n",
       "      <th>City</th>\n",
       "      <th>Furnishing Status</th>\n",
       "      <th>Tenant Preferred</th>\n",
       "      <th>Bathroom</th>\n",
       "      <th>Point of Contact</th>\n",
       "      <th>Floor Number</th>\n",
       "      <th>Total Floor</th>\n",
       "    </tr>\n",
       "  </thead>\n",
       "  <tbody>\n",
       "    <tr>\n",
       "      <th>0</th>\n",
       "      <td>2</td>\n",
       "      <td>10000</td>\n",
       "      <td>1100</td>\n",
       "      <td>2</td>\n",
       "      <td>Kolkata</td>\n",
       "      <td>2</td>\n",
       "      <td>1</td>\n",
       "      <td>2</td>\n",
       "      <td>2</td>\n",
       "      <td>0</td>\n",
       "      <td>2</td>\n",
       "    </tr>\n",
       "    <tr>\n",
       "      <th>1</th>\n",
       "      <td>2</td>\n",
       "      <td>20000</td>\n",
       "      <td>800</td>\n",
       "      <td>2</td>\n",
       "      <td>Kolkata</td>\n",
       "      <td>1</td>\n",
       "      <td>1</td>\n",
       "      <td>1</td>\n",
       "      <td>2</td>\n",
       "      <td>1</td>\n",
       "      <td>3</td>\n",
       "    </tr>\n",
       "    <tr>\n",
       "      <th>2</th>\n",
       "      <td>2</td>\n",
       "      <td>17000</td>\n",
       "      <td>1000</td>\n",
       "      <td>2</td>\n",
       "      <td>Kolkata</td>\n",
       "      <td>1</td>\n",
       "      <td>1</td>\n",
       "      <td>1</td>\n",
       "      <td>2</td>\n",
       "      <td>1</td>\n",
       "      <td>3</td>\n",
       "    </tr>\n",
       "    <tr>\n",
       "      <th>3</th>\n",
       "      <td>2</td>\n",
       "      <td>10000</td>\n",
       "      <td>800</td>\n",
       "      <td>2</td>\n",
       "      <td>Kolkata</td>\n",
       "      <td>2</td>\n",
       "      <td>1</td>\n",
       "      <td>1</td>\n",
       "      <td>2</td>\n",
       "      <td>1</td>\n",
       "      <td>2</td>\n",
       "    </tr>\n",
       "    <tr>\n",
       "      <th>4</th>\n",
       "      <td>2</td>\n",
       "      <td>7500</td>\n",
       "      <td>850</td>\n",
       "      <td>1</td>\n",
       "      <td>Kolkata</td>\n",
       "      <td>2</td>\n",
       "      <td>0</td>\n",
       "      <td>1</td>\n",
       "      <td>2</td>\n",
       "      <td>1</td>\n",
       "      <td>2</td>\n",
       "    </tr>\n",
       "  </tbody>\n",
       "</table>\n",
       "</div>"
      ],
      "text/plain": [
       "   BHK   Rent  Size  Area Type     City  Furnishing Status  Tenant Preferred  \\\n",
       "0    2  10000  1100          2  Kolkata                  2                 1   \n",
       "1    2  20000   800          2  Kolkata                  1                 1   \n",
       "2    2  17000  1000          2  Kolkata                  1                 1   \n",
       "3    2  10000   800          2  Kolkata                  2                 1   \n",
       "4    2   7500   850          1  Kolkata                  2                 0   \n",
       "\n",
       "   Bathroom  Point of Contact Floor Number Total Floor  \n",
       "0         2                 2            0           2  \n",
       "1         1                 2            1           3  \n",
       "2         1                 2            1           3  \n",
       "3         1                 2            1           2  \n",
       "4         1                 2            1           2  "
      ]
     },
     "execution_count": 182,
     "metadata": {},
     "output_type": "execute_result"
    }
   ],
   "source": [
    "data.head()"
   ]
  },
  {
   "cell_type": "code",
   "execution_count": 181,
   "metadata": {},
   "outputs": [],
   "source": [
    "data.drop([\"Posted On\"], axis=\"columns\", inplace=True)\n",
    "data.drop([\"Area Locality\"], axis=\"columns\", inplace=True)"
   ]
  },
  {
   "cell_type": "code",
   "execution_count": 183,
   "metadata": {},
   "outputs": [
    {
     "data": {
      "text/plain": [
       "array([4, 5, 0, 2, 1, 3])"
      ]
     },
     "execution_count": 183,
     "metadata": {},
     "output_type": "execute_result"
    }
   ],
   "source": [
    "data['City']= label_encoder.fit_transform(data['City'])\n",
    "data['City'].unique()"
   ]
  },
  {
   "cell_type": "code",
   "execution_count": 185,
   "metadata": {},
   "outputs": [],
   "source": [
    "from sklearn.preprocessing import minmax_scale\n",
    "\n",
    "data[\"Rent\"] = minmax_scale(data[\"Rent\"])\n",
    "data[\"Size\"] = minmax_scale(data[\"Size\"])"
   ]
  },
  {
   "cell_type": "markdown",
   "metadata": {},
   "source": [
    "2) Разделение данных на train и test"
   ]
  },
  {
   "cell_type": "code",
   "execution_count": 186,
   "metadata": {},
   "outputs": [
    {
     "data": {
      "text/plain": [
       "((3796, 10), (950, 10), (3796,), (950,))"
      ]
     },
     "execution_count": 186,
     "metadata": {},
     "output_type": "execute_result"
    }
   ],
   "source": [
    "from sklearn.model_selection import train_test_split\n",
    "\n",
    "X = data.drop(['Rent'], axis=1)  # Удаляем целевую переменную\n",
    "y = data['Rent']  # Основная переменная\n",
    "\n",
    "X_train, X_test, y_train, y_test = train_test_split(X, y, test_size=0.2, random_state=42)  # 20% данных на тестовую выборку\n",
    "\n",
    "X_train.shape, X_test.shape, y_train.shape, y_test.shape"
   ]
  },
  {
   "cell_type": "code",
   "execution_count": 187,
   "metadata": {},
   "outputs": [],
   "source": [
    "from sklearn.preprocessing import StandardScaler"
   ]
  },
  {
   "cell_type": "code",
   "execution_count": 205,
   "metadata": {},
   "outputs": [],
   "source": [
    "ss=StandardScaler()\n",
    "X_train_scaled = ss.fit_transform(X_train)\n",
    "X_test_scaled = ss.transform(X_test)"
   ]
  },
  {
   "cell_type": "code",
   "execution_count": 206,
   "metadata": {},
   "outputs": [],
   "source": [
    "X_train_torch = torch.tensor(X_train_scaled, dtype=torch.float32)\n",
    "y_train_torch = torch.tensor(y_train.values, dtype=torch.float32).view(-1, 1)  # Делаем y двумерным тензором\n",
    "X_test_torch = torch.tensor(X_test_scaled, dtype=torch.float32)\n",
    "y_test_torch = torch.tensor(y_test.values, dtype=torch.float32).view(-1, 1)"
   ]
  },
  {
   "cell_type": "markdown",
   "metadata": {},
   "source": [
    "3) Определите модель torch, для этого определите количество входов и выходов"
   ]
  },
  {
   "cell_type": "code",
   "execution_count": 199,
   "metadata": {},
   "outputs": [
    {
     "data": {
      "text/plain": [
       "(10, 1)"
      ]
     },
     "execution_count": 199,
     "metadata": {},
     "output_type": "execute_result"
    }
   ],
   "source": [
    "N_INPUT = X.shape[1]\n",
    "N_OUTPUT = 1 \n",
    "N_INPUT, N_OUTPUT"
   ]
  },
  {
   "cell_type": "code",
   "execution_count": 200,
   "metadata": {},
   "outputs": [],
   "source": [
    "N_HIDDEN_1 = 64\n",
    "N_HIDDEN_2 = 32"
   ]
  },
  {
   "cell_type": "markdown",
   "metadata": {},
   "source": [
    "Определите модель с 2 скрытыми слоями"
   ]
  },
  {
   "cell_type": "code",
   "execution_count": 201,
   "metadata": {},
   "outputs": [],
   "source": [
    "model = nn.Sequential(\n",
    "    nn.Linear(N_INPUT, N_HIDDEN_1),  # Первый слой (входной)\n",
    "    nn.ReLU(),  # Функция активации для первого скрытого слоя\n",
    "    nn.Linear(N_HIDDEN_1, N_HIDDEN_2),  # Второй слой (скрытый)\n",
    "    nn.ReLU(),  # Функция активации для второго скрытого слоя\n",
    "    nn.Linear(N_HIDDEN_2, N_OUTPUT)  # Третий слой (выходной)\n",
    ")"
   ]
  },
  {
   "cell_type": "code",
   "execution_count": 202,
   "metadata": {},
   "outputs": [
    {
     "name": "stdout",
     "output_type": "stream",
     "text": [
      "Sequential(\n",
      "  (0): Linear(in_features=10, out_features=64, bias=True)\n",
      "  (1): ReLU()\n",
      "  (2): Linear(in_features=64, out_features=32, bias=True)\n",
      "  (3): ReLU()\n",
      "  (4): Linear(in_features=32, out_features=1, bias=True)\n",
      ")\n"
     ]
    }
   ],
   "source": [
    "print(model)"
   ]
  },
  {
   "cell_type": "markdown",
   "metadata": {},
   "source": [
    "Определите функцию потерь и оптимизатор"
   ]
  },
  {
   "cell_type": "code",
   "execution_count": 203,
   "metadata": {},
   "outputs": [],
   "source": [
    "import torch.optim as optim"
   ]
  },
  {
   "cell_type": "code",
   "execution_count": 204,
   "metadata": {},
   "outputs": [],
   "source": [
    "loss_function = nn.MSELoss()  \n",
    "optimizer = optim.Adam(model.parameters(), lr=0.001) \n"
   ]
  },
  {
   "cell_type": "markdown",
   "metadata": {},
   "source": [
    "4) Обучение модели - реализуйте цикл обучения"
   ]
  },
  {
   "cell_type": "code",
   "execution_count": 207,
   "metadata": {},
   "outputs": [],
   "source": [
    "train_data = TensorDataset(X_train_torch, y_train_torch)\n",
    "test_data = TensorDataset(X_test_torch, y_test_torch)\n",
    "train_loader = DataLoader(train_data, batch_size=64, shuffle=True)\n",
    "test_loader = DataLoader(test_data, batch_size=64, shuffle=False)"
   ]
  },
  {
   "cell_type": "code",
   "execution_count": 211,
   "metadata": {},
   "outputs": [
    {
     "name": "stdout",
     "output_type": "stream",
     "text": [
      "Эпоха 1/20, Loss: 0.0000\n",
      "Эпоха 2/20, Loss: 0.0000\n",
      "Эпоха 3/20, Loss: 0.0000\n",
      "Эпоха 4/20, Loss: 0.0000\n",
      "Эпоха 5/20, Loss: 0.0000\n",
      "Эпоха 6/20, Loss: 0.0000\n",
      "Эпоха 7/20, Loss: 0.0000\n",
      "Эпоха 8/20, Loss: 0.0001\n",
      "Эпоха 9/20, Loss: 0.0003\n",
      "Эпоха 10/20, Loss: 0.0000\n",
      "Эпоха 11/20, Loss: 0.0001\n",
      "Эпоха 12/20, Loss: 0.0001\n",
      "Эпоха 13/20, Loss: 0.0001\n",
      "Эпоха 14/20, Loss: 0.0000\n",
      "Эпоха 15/20, Loss: 0.0000\n",
      "Эпоха 16/20, Loss: 0.0000\n",
      "Эпоха 17/20, Loss: 0.0000\n",
      "Эпоха 18/20, Loss: 0.0000\n",
      "Эпоха 19/20, Loss: 0.0000\n",
      "Эпоха 20/20, Loss: 0.0000\n"
     ]
    }
   ],
   "source": [
    "num_epochs = 20\n",
    "\n",
    "for epoch in range(num_epochs):\n",
    "    model.train()\n",
    "    running_loss = 0.0\n",
    "    for inputs, targets in train_loader:\n",
    "        optimizer.zero_grad()\n",
    "        outputs = model(inputs)\n",
    "        loss = loss_function(outputs, targets)\n",
    "        loss.backward()\n",
    "        optimizer.step()\n",
    "        running_loss += loss.item() * inputs.size(0)\n",
    "    epoch_loss = running_loss / len(train_loader.dataset)\n",
    "\n",
    "    print(f'Эпоха {epoch+1}/{num_epochs}, Loss: {epoch_loss:.4f}')"
   ]
  },
  {
   "cell_type": "markdown",
   "metadata": {},
   "source": [
    "5) Выведите метрики модели"
   ]
  },
  {
   "cell_type": "code",
   "execution_count": 213,
   "metadata": {},
   "outputs": [
    {
     "name": "stdout",
     "output_type": "stream",
     "text": [
      "Train MSE: 0.0000, Train MAE: 0.0023, Train R^2: 0.9629\n",
      "Test MSE: 0.0002, Test MAE: 0.0041, Test R^2: 0.4370\n",
      "R^2: 0.23693069638203434\n"
     ]
    }
   ],
   "source": [
    "from sklearn.metrics import mean_squared_error, mean_absolute_error, r2_score\n",
    "\n",
    "def evaluate_model(loader):\n",
    "    model.eval()\n",
    "    actuals = []\n",
    "    predictions = []\n",
    "    with torch.no_grad():\n",
    "        for inputs, targets in loader:\n",
    "            outputs = model(inputs)\n",
    "            actuals.extend(targets.view(-1).tolist())\n",
    "            predictions.extend(outputs.view(-1).tolist())\n",
    "    \n",
    "    mse = mean_squared_error(actuals, predictions)\n",
    "    mae = mean_absolute_error(actuals, predictions)\n",
    "    r2 = r2_score(actuals, predictions)\n",
    "    return mse, mae, r2\n",
    "\n",
    "# Оценка модели на обучающей выборке\n",
    "train_mse, train_mae, train_r2 = evaluate_model(train_loader)\n",
    "print(f'Train MSE: {train_mse:.4f}, Train MAE: {train_mae:.4f}, Train R^2: {train_r2:.4f}')\n",
    "\n",
    "# Оценка модели на тестовой выборке\n",
    "test_mse, test_mae, test_r2 = evaluate_model(test_loader)\n",
    "print(f'Test MSE: {test_mse:.4f}, Test MAE: {test_mae:.4f}, Test R^2: {test_r2:.4f}')\n",
    "print(f'R^2: {r2}')\n"
   ]
  }
 ],
 "metadata": {
  "kernelspec": {
   "display_name": ".venv",
   "language": "python",
   "name": "python3"
  },
  "language_info": {
   "codemirror_mode": {
    "name": "ipython",
    "version": 3
   },
   "file_extension": ".py",
   "mimetype": "text/x-python",
   "name": "python",
   "nbconvert_exporter": "python",
   "pygments_lexer": "ipython3",
   "version": "3.11.0"
  }
 },
 "nbformat": 4,
 "nbformat_minor": 2
}
